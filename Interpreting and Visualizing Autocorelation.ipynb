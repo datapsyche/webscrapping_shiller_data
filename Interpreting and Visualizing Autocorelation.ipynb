{
 "cells": [
  {
   "cell_type": "markdown",
   "metadata": {},
   "source": [
    "# Interpretting and Visualizing AutoCorelation. \n",
    "\n",
    "Analysing a Time Series Data needs special attention. Here we would like to explore more about working with a time series data and identify the effect of auto correlation and there by channelize our thoughts to come up with a more practical approach to work with time series. To prepare this article, we decided to pick a financial data set. finance is one domain where time series data is available easily but yet there is a lack of online resources to accurately come up with a model that is insightfull in predicting or giving insights on future. After a quick research we decided to work on Shiller PE ratio and predict the movement of S&P monthly closing price : http://www.multpl.com/shiller-pe/table?f=m\n",
    "\n",
    "#### Domain Knowledge \n",
    "\n",
    "The cyclically adjusted price-to-earnings ratio, commonly known as CAPE, Shiller P/E, or P/E 10 ratio,is a valuation measure usually applied to the US S&P 500 equity market. It is defined as price divided by the average of ten years of earnings (moving average), adjusted for inflation. As such, it is principally used to assess likely future returns from equities over timescales of 10 to 20 years, with higher than average CAPE values implying lower than average long-term annual average returns.\n",
    "\n",
    "#### Webscrapping \n",
    "\n",
    "We start with extracting data scrapping the shiller PE ratio and S&P closing prices from \n",
    "http://www.multpl.com/shiller-pe/table?f=m"
   ]
  },
  {
   "cell_type": "markdown",
   "metadata": {},
   "source": [
    "## Data Extraction using Beautifull Soup library"
   ]
  },
  {
   "cell_type": "markdown",
   "metadata": {},
   "source": [
    "We use request library to query the server and get the webpage as source object and then we use beautifull soup library to extract the table information from the webpage."
   ]
  },
  {
   "cell_type": "code",
   "execution_count": 1,
   "metadata": {},
   "outputs": [
    {
     "name": "stdout",
     "output_type": "stream",
     "text": [
      "Output : Completed extracting Shiller Ratio\n"
     ]
    }
   ],
   "source": [
    "from requests import get\n",
    "from bs4 import BeautifulSoup\n",
    "\n",
    "url=\"http://www.multpl.com/shiller-pe/table?f=m\"\n",
    "source=get(url)\n",
    "webpage_data=BeautifulSoup(source.text,\"lxml\")\n",
    "data_table=webpage_data.find('table',id='datatable')\n",
    "data_row=data_table.findAll('tr')\n",
    "data_list=[]\n",
    "for i in range(1,len(data_row)):\n",
    "    each_row=data_row[i].text.split('\\n')\n",
    "    data_list.append([each_row[1],each_row[2]])\n",
    "\n",
    "shiller_ratio_data=data_list.copy()\n",
    "print(\"Output : Completed extracting Shiller Ratio\")\n",
    "\n",
    "    "
   ]
  },
  {
   "cell_type": "markdown",
   "metadata": {},
   "source": [
    "Now we would also want the closing prices on each month this could be obtained from below url\n",
    "http://www.multpl.com/s-p-500-historical-prices/table/by-month. So we can extract the table data in exactly similar method."
   ]
  },
  {
   "cell_type": "code",
   "execution_count": 2,
   "metadata": {},
   "outputs": [
    {
     "name": "stdout",
     "output_type": "stream",
     "text": [
      "Output : Completed extracting SandP Ratio\n"
     ]
    }
   ],
   "source": [
    "url=\"http://www.multpl.com/s-p-500-historical-prices/table/by-month\"\n",
    "source=get(url)\n",
    "webpage_data=BeautifulSoup(source.text,\"lxml\")\n",
    "data_table=webpage_data.find('table',id='datatable')\n",
    "data_row=data_table.findAll('tr')\n",
    "data_list=[]\n",
    "for i in range(1,len(data_row)):\n",
    "    each_row=data_row[i].text.split('\\n')\n",
    "    data_list.append([each_row[1],each_row[2]])\n",
    "    \n",
    "SandP_closing_data=data_list.copy()\n",
    "print(\"Output : Completed extracting SandP Ratio\")\n"
   ]
  },
  {
   "cell_type": "markdown",
   "metadata": {},
   "source": [
    "Now we have data extracted in two list. We create a pandas data frame with index column as time series and S&P closing and Shiller Ratio as our data columns. Pandas Data frame with a series of values in datetime format as index is often generally called a Time Series."
   ]
  },
  {
   "cell_type": "markdown",
   "metadata": {},
   "source": [
    "## Data Preparation and Data Cleaning using Pandas library : Creating a Time Series"
   ]
  },
  {
   "cell_type": "code",
   "execution_count": 3,
   "metadata": {},
   "outputs": [],
   "source": [
    "import pandas as pd\n",
    "import datetime\n",
    "\n",
    "df_shiller=pd.DataFrame(shiller_ratio_data,columns=[\"sh_Date\",\"sh_Ratio\"])\n",
    "df_SandP=pd.DataFrame(SandP_closing_data,columns=[\"SandP_Date\",\"SandP_Closing_Price\"])"
   ]
  },
  {
   "cell_type": "markdown",
   "metadata": {},
   "source": [
    "So we have shiller ratio data and S&P closing price in two different dataframes, now lets perform a lookup function to get the shiller PE ratio for each month into the closing price data frame."
   ]
  },
  {
   "cell_type": "code",
   "execution_count": 4,
   "metadata": {},
   "outputs": [
    {
     "name": "stdout",
     "output_type": "stream",
     "text": [
      "<class 'pandas.core.frame.DataFrame'>\n",
      "Int64Index: 1769 entries, 0 to 1768\n",
      "Data columns (total 4 columns):\n",
      "SandP_Date             1769 non-null object\n",
      "SandP_Closing_Price    1769 non-null object\n",
      "sh_Date                1649 non-null object\n",
      "sh_Ratio               1649 non-null object\n",
      "dtypes: object(4)\n",
      "memory usage: 69.1+ KB\n"
     ]
    }
   ],
   "source": [
    "df_data=df_SandP.merge(df_shiller, left_on='SandP_Date',right_on='sh_Date', how='outer')\n",
    "df_data.info()"
   ]
  },
  {
   "cell_type": "markdown",
   "metadata": {},
   "source": [
    "We have 1769 entries and 4 columns SandP_Date and sh_Date are date columns we could easily drop one of them and we need to check for null values.\n"
   ]
  },
  {
   "cell_type": "code",
   "execution_count": 5,
   "metadata": {},
   "outputs": [
    {
     "data": {
      "text/plain": [
       "SandP_Date               0\n",
       "SandP_Closing_Price      0\n",
       "sh_Ratio               120\n",
       "dtype: int64"
      ]
     },
     "execution_count": 5,
     "metadata": {},
     "output_type": "execute_result"
    }
   ],
   "source": [
    "df_data=df_data.drop('sh_Date',axis=1)\n",
    "df_data.isnull().sum()"
   ]
  },
  {
   "cell_type": "markdown",
   "metadata": {},
   "source": [
    "sh_Ratio has 120 null values, we could drop these values from our dataset safely as this accounts to less than 6% of total row items"
   ]
  },
  {
   "cell_type": "code",
   "execution_count": 6,
   "metadata": {},
   "outputs": [
    {
     "data": {
      "text/html": [
       "<div>\n",
       "<style scoped>\n",
       "    .dataframe tbody tr th:only-of-type {\n",
       "        vertical-align: middle;\n",
       "    }\n",
       "\n",
       "    .dataframe tbody tr th {\n",
       "        vertical-align: top;\n",
       "    }\n",
       "\n",
       "    .dataframe thead th {\n",
       "        text-align: right;\n",
       "    }\n",
       "</style>\n",
       "<table border=\"1\" class=\"dataframe\">\n",
       "  <thead>\n",
       "    <tr style=\"text-align: right;\">\n",
       "      <th></th>\n",
       "      <th>SandP_Date</th>\n",
       "      <th>SandP_Closing_Price</th>\n",
       "      <th>sh_Ratio</th>\n",
       "    </tr>\n",
       "  </thead>\n",
       "  <tbody>\n",
       "    <tr>\n",
       "      <th>0</th>\n",
       "      <td>May 17, 2018</td>\n",
       "      <td>2,720.01</td>\n",
       "      <td>32.33</td>\n",
       "    </tr>\n",
       "    <tr>\n",
       "      <th>1</th>\n",
       "      <td>Apr 1, 2018</td>\n",
       "      <td>2,633.45</td>\n",
       "      <td>31.30</td>\n",
       "    </tr>\n",
       "    <tr>\n",
       "      <th>2</th>\n",
       "      <td>Mar 1, 2018</td>\n",
       "      <td>2,702.77</td>\n",
       "      <td>32.12</td>\n",
       "    </tr>\n",
       "    <tr>\n",
       "      <th>3</th>\n",
       "      <td>Feb 1, 2018</td>\n",
       "      <td>2,705.16</td>\n",
       "      <td>32.15</td>\n",
       "    </tr>\n",
       "    <tr>\n",
       "      <th>4</th>\n",
       "      <td>Jan 1, 2018</td>\n",
       "      <td>2,789.80</td>\n",
       "      <td>33.31</td>\n",
       "    </tr>\n",
       "  </tbody>\n",
       "</table>\n",
       "</div>"
      ],
      "text/plain": [
       "     SandP_Date SandP_Closing_Price sh_Ratio\n",
       "0  May 17, 2018            2,720.01    32.33\n",
       "1   Apr 1, 2018            2,633.45    31.30\n",
       "2   Mar 1, 2018            2,702.77    32.12\n",
       "3   Feb 1, 2018            2,705.16    32.15\n",
       "4   Jan 1, 2018            2,789.80    33.31"
      ]
     },
     "execution_count": 6,
     "metadata": {},
     "output_type": "execute_result"
    }
   ],
   "source": [
    "df_data=df_data.dropna()\n",
    "df_data.head(5)"
   ]
  },
  {
   "cell_type": "markdown",
   "metadata": {},
   "source": [
    "Now we create a time series for which the SandP Date column needs to formatted correctly so that we are able to assign the correct datatype for each columns."
   ]
  },
  {
   "cell_type": "code",
   "execution_count": 7,
   "metadata": {},
   "outputs": [
    {
     "name": "stdout",
     "output_type": "stream",
     "text": [
      "<class 'pandas.core.frame.DataFrame'>\n",
      "DatetimeIndex: 1649 entries, 2018-05-17 to 1881-01-01\n",
      "Data columns (total 2 columns):\n",
      "SandP_Closing_Price    1649 non-null float64\n",
      "sh_Ratio               1649 non-null float64\n",
      "dtypes: float64(2)\n",
      "memory usage: 38.6 KB\n"
     ]
    }
   ],
   "source": [
    "df_data['SandP_Closing_Price']=df_data['SandP_Closing_Price'].str.replace(',','')\n",
    "df_data['SandP_Date']=df_data['SandP_Date'].str.replace(',','')\n",
    "\n",
    "df_data['SandP_Closing_Price']=df_data['SandP_Closing_Price'].astype('float64')\n",
    "df_data['sh_Ratio']=df_data['sh_Ratio'].astype('float64')\n",
    "\n",
    "df_data['SandP_Date'] =  pd.to_datetime(df_data['SandP_Date'], format='%b %d %Y')\n",
    "df_data=df_data.set_index('SandP_Date')\n",
    "df_data.info()"
   ]
  },
  {
   "cell_type": "markdown",
   "metadata": {},
   "source": [
    "Now our Dataframe is in a time series format and ready for further analysis."
   ]
  },
  {
   "cell_type": "markdown",
   "metadata": {},
   "source": [
    "## Time Series Analysis "
   ]
  },
  {
   "cell_type": "code",
   "execution_count": 8,
   "metadata": {},
   "outputs": [],
   "source": [
    "# so our data frame is now a time series object let us use the common notation ts for this data frame.\n",
    "ts=df_data.copy()"
   ]
  },
  {
   "cell_type": "markdown",
   "metadata": {},
   "source": [
    "### Time Series : Visualization"
   ]
  },
  {
   "cell_type": "code",
   "execution_count": 149,
   "metadata": {},
   "outputs": [],
   "source": [
    "import matplotlib.pylab as plt"
   ]
  },
  {
   "cell_type": "code",
   "execution_count": 150,
   "metadata": {},
   "outputs": [
    {
     "data": {
      "text/plain": [
       "<matplotlib.axes._subplots.AxesSubplot at 0x7f690e2c4b70>"
      ]
     },
     "execution_count": 150,
     "metadata": {},
     "output_type": "execute_result"
    },
    {
     "data": {
      "image/png": "[encoded data removed]",
      "text/plain": [
       "<matplotlib.figure.Figure at 0x7f690eb0b470>"
      ]
     },
     "metadata": {},
     "output_type": "display_data"
    }
   ],
   "source": [
    "ts.SandP_Closing_Price.plot(label=\"S&P Closing Price\", legend=True,title='S&P index and shiller PE Ratio')\n",
    "ts.sh_Ratio.plot(secondary_y=True, label=\"Shiller Ratio\", legend=True)"
   ]
  },
  {
   "cell_type": "markdown",
   "metadata": {},
   "source": [
    "The above graph gives a picture of how the Sand P index performed over the years, along with Shiller PE ratio. Lets visualize the same over our training data and test data."
   ]
  },
  {
   "cell_type": "markdown",
   "metadata": {},
   "source": [
    "#### Visualizing subset of time series"
   ]
  },
  {
   "cell_type": "code",
   "execution_count": 151,
   "metadata": {},
   "outputs": [
    {
     "data": {
      "text/plain": [
       "<matplotlib.axes._subplots.AxesSubplot at 0x7f6910f656a0>"
      ]
     },
     "execution_count": 151,
     "metadata": {},
     "output_type": "execute_result"
    },
    {
     "data": {
      "image/png": "[encoded data removed]",
      "text/plain": [
       "<matplotlib.figure.Figure at 0x7f690e2babe0>"
      ]
     },
     "metadata": {},
     "output_type": "display_data"
    }
   ],
   "source": [
    "ts[:'2000'].SandP_Closing_Price.plot(label=\"S&P Closing Price\", legend=True,title='S&P index and shiller PE Ratio')\n",
    "ts[:'2000'].sh_Ratio.plot(secondary_y=True, label=\"Shiller Ratio\", legend=True)"
   ]
  },
  {
   "cell_type": "markdown",
   "metadata": {},
   "source": [
    "The graph provides the range of values shiller ratio and S&P closing price from 2005 to till date. The visualization clearly provides insights on the 2008-2009 financial crisis with a dip in the values ever since the S and P and shiller ratio both have been in an upward trend with minor dips in the way. "
   ]
  },
  {
   "cell_type": "markdown",
   "metadata": {},
   "source": [
    "Now let us split our dataset into x,y,training and test set. Since we have our dataframe in timeseries format we are able to split it by year."
   ]
  },
  {
   "cell_type": "markdown",
   "metadata": {},
   "source": [
    "#### Splitting Time Series to training and test data"
   ]
  },
  {
   "cell_type": "code",
   "execution_count": 152,
   "metadata": {},
   "outputs": [],
   "source": [
    "x_train=ts['2010-01-01':'2001-01-01']['sh_Ratio']  # Column sh_Ratio of our time sereis (2010-2001) is taken as x train value and stored in x_train list\n",
    "y_train=ts['2010-01-01':'2001-01-01']['SandP_Closing_Price']  # Column SandP_ Closing Price (2010-2001) of our time sereis is taken as y train value and stored in y_train list\n",
    "x_test=ts['2012-01-01':'2010-01-01']['sh_Ratio']  # Column sh_Ratio (2012-2010) of our time sereis is taken as x test value and stored in x_test list\n",
    "y_test=ts['2012-01-01':'2010-01-01']['SandP_Closing_Price'] # Column SandP_Closing Price  (2012-2010)of our time sereis is taken as y value and stored in y_test list"
   ]
  },
  {
   "cell_type": "markdown",
   "metadata": {},
   "source": [
    "Now lets import essential libraries like stats model for preparing our OLS Linear regression model\n",
    "we are using Stats model instead of sklearn because it has a bettter detailed output and one of the critical test score 'DURBIN-WATSON' is easily obtained from stats model OLS output."
   ]
  },
  {
   "cell_type": "markdown",
   "metadata": {},
   "source": [
    "#### Simple Linear Regression using OLS statsmodel"
   ]
  },
  {
   "cell_type": "code",
   "execution_count": 153,
   "metadata": {},
   "outputs": [
    {
     "data": {
      "text/html": [
       "<table class=\"simpletable\">\n",
       "<caption>OLS Regression Results</caption>\n",
       "<tr>\n",
       "  <th>Dep. Variable:</th>    <td>SandP_Closing_Price</td> <th>  R-squared:         </th> <td>   0.974</td>\n",
       "</tr>\n",
       "<tr>\n",
       "  <th>Model:</th>                    <td>OLS</td>         <th>  Adj. R-squared:    </th> <td>   0.974</td>\n",
       "</tr>\n",
       "<tr>\n",
       "  <th>Method:</th>              <td>Least Squares</td>    <th>  F-statistic:       </th> <td>   4010.</td>\n",
       "</tr>\n",
       "<tr>\n",
       "  <th>Date:</th>              <td>Fri, 18 May 2018</td>   <th>  Prob (F-statistic):</th> <td>3.18e-87</td>\n",
       "</tr>\n",
       "<tr>\n",
       "  <th>Time:</th>                  <td>14:39:35</td>       <th>  Log-Likelihood:    </th> <td> -726.77</td>\n",
       "</tr>\n",
       "<tr>\n",
       "  <th>No. Observations:</th>       <td>   109</td>        <th>  AIC:               </th> <td>   1456.</td>\n",
       "</tr>\n",
       "<tr>\n",
       "  <th>Df Residuals:</th>           <td>   108</td>        <th>  BIC:               </th> <td>   1458.</td>\n",
       "</tr>\n",
       "<tr>\n",
       "  <th>Df Model:</th>               <td>     1</td>        <th>                     </th>     <td> </td>   \n",
       "</tr>\n",
       "<tr>\n",
       "  <th>Covariance Type:</th>       <td>nonrobust</td>      <th>                     </th>     <td> </td>   \n",
       "</tr>\n",
       "</table>\n",
       "<table class=\"simpletable\">\n",
       "<tr>\n",
       "      <td></td>        <th>coef</th>     <th>std err</th>      <th>t</th>      <th>P>|t|</th>  <th>[0.025</th>    <th>0.975]</th>  \n",
       "</tr>\n",
       "<tr>\n",
       "  <th>sh_Ratio</th> <td>   45.7366</td> <td>    0.722</td> <td>   63.324</td> <td> 0.000</td> <td>   44.305</td> <td>   47.168</td>\n",
       "</tr>\n",
       "</table>\n",
       "<table class=\"simpletable\">\n",
       "<tr>\n",
       "  <th>Omnibus:</th>       <td>61.272</td> <th>  Durbin-Watson:     </th> <td>   0.005</td>\n",
       "</tr>\n",
       "<tr>\n",
       "  <th>Prob(Omnibus):</th> <td> 0.000</td> <th>  Jarque-Bera (JB):  </th> <td>   7.709</td>\n",
       "</tr>\n",
       "<tr>\n",
       "  <th>Skew:</th>          <td>-0.078</td> <th>  Prob(JB):          </th> <td>  0.0212</td>\n",
       "</tr>\n",
       "<tr>\n",
       "  <th>Kurtosis:</th>      <td> 1.707</td> <th>  Cond. No.          </th> <td>    1.00</td>\n",
       "</tr>\n",
       "</table>"
      ],
      "text/plain": [
       "<class 'statsmodels.iolib.summary.Summary'>\n",
       "\"\"\"\n",
       "                             OLS Regression Results                            \n",
       "===============================================================================\n",
       "Dep. Variable:     SandP_Closing_Price   R-squared:                       0.974\n",
       "Model:                             OLS   Adj. R-squared:                  0.974\n",
       "Method:                  Least Squares   F-statistic:                     4010.\n",
       "Date:                 Fri, 18 May 2018   Prob (F-statistic):           3.18e-87\n",
       "Time:                         14:39:35   Log-Likelihood:                -726.77\n",
       "No. Observations:                  109   AIC:                             1456.\n",
       "Df Residuals:                      108   BIC:                             1458.\n",
       "Df Model:                            1                                         \n",
       "Covariance Type:             nonrobust                                         \n",
       "==============================================================================\n",
       "                 coef    std err          t      P>|t|      [0.025      0.975]\n",
       "------------------------------------------------------------------------------\n",
       "sh_Ratio      45.7366      0.722     63.324      0.000      44.305      47.168\n",
       "==============================================================================\n",
       "Omnibus:                       61.272   Durbin-Watson:                   0.005\n",
       "Prob(Omnibus):                  0.000   Jarque-Bera (JB):                7.709\n",
       "Skew:                          -0.078   Prob(JB):                       0.0212\n",
       "Kurtosis:                       1.707   Cond. No.                         1.00\n",
       "==============================================================================\n",
       "\n",
       "Warnings:\n",
       "[1] Standard Errors assume that the covariance matrix of the errors is correctly specified.\n",
       "\"\"\""
      ]
     },
     "execution_count": 153,
     "metadata": {},
     "output_type": "execute_result"
    }
   ],
   "source": [
    "import statsmodels.api as sm\n",
    "\n",
    "model=sm.OLS(y_train,x_train)\n",
    "result=model.fit()\n",
    "result.summary()"
   ]
  },
  {
   "cell_type": "markdown",
   "metadata": {},
   "source": [
    "As observed the DURBIN-WATSON test score here is .005 which is much closer to 0. \n",
    "\n",
    "What is DURBIN-WATSON test? "
   ]
  },
  {
   "cell_type": "markdown",
   "metadata": {},
   "source": [
    "#### DURBIN-WATSON Test\n",
    "\n",
    "The Durbin Watson statistic gives an easy to interpret test score for autoregression.The Durbin-Watson statistic is always between 0 and 4. A value of 2 means that there is no autocorrelation. Values approaching 0 indicate positive autocorrelation and values toward 4 indicate negative autocorrelation.\n",
    "\n",
    "Quick idea of how DURBIN-WATSON test score is calculated. \n",
    "\n",
    "1) consider points sample points x1,x2,x3..xN in our dataset with corresponding y1,y2,y3..yN. \n",
    "\n",
    "2) from OLS we get the line of best fit with y_predicted = b1*x(i)+ b2\n",
    "\n",
    "3) now, we calculate expected or predicted Y for x1,x2,x3...xN let us assume it to be z1,z2,z3....zN\n",
    "\n",
    "4) then, we caluculate the errors e1=(z1-y1),e2=(z2-y2) and so on till eN=(zN-yN)\n",
    "\n",
    "5) we get the square of error term and sum them. sum_Square_Error=square(e1) +square(e2)...square(eN)\n",
    "\n",
    "6) we then compute the sum of square of error difference or sum_square_ErrorDifference = square(e2-e1), square(e3-e2), square(e4-e3),... square(eN-e(N-1))\n",
    "\n",
    "7) next we get divide sum_square_Error / sum_square_ErrorDifference and Durbin-Watson Test score is the quotient of this division.\n",
    "\n",
    "Reference :- https://www.investopedia.com/terms/d/durbin-watson-statistic.asp\n"
   ]
  },
  {
   "cell_type": "markdown",
   "metadata": {},
   "source": [
    "So here the Durbin-Watson test score is very close to 0 which means there is a very high positive correlation\n",
    "Lets visualize this corelation."
   ]
  },
  {
   "cell_type": "markdown",
   "metadata": {},
   "source": [
    "#### ACF Plot - Auto Corelation Function Plot"
   ]
  },
  {
   "cell_type": "code",
   "execution_count": 161,
   "metadata": {},
   "outputs": [
    {
     "data": {
      "image/png": "[encoded data removed]",
      "text/plain": [
       "<matplotlib.figure.Figure at 0x7f690d981b70>"
      ]
     },
     "metadata": {},
     "output_type": "display_data"
    }
   ],
   "source": [
    "from statsmodels.graphics.tsaplots import plot_acf\n",
    "from statsmodels.graphics.tsaplots import plot_pacf\n",
    "acf_plot=plot_acf(y_train,title='Autocorrelation of S&P closing price')"
   ]
  },
  {
   "cell_type": "markdown",
   "metadata": {},
   "source": [
    "By looking at the autocorrelation function (ACF) plot of the series, we can tentatively identify the autocorelation in the series. ACF is a bar chart of the coefficients of correlation between a time series and lags of itself. Let us reduce the lags to 25 to get a clear picture of the graph."
   ]
  },
  {
   "cell_type": "markdown",
   "metadata": {},
   "source": [
    "#### PACF Plot - Partial AutoCorelation Plot"
   ]
  },
  {
   "cell_type": "code",
   "execution_count": 162,
   "metadata": {},
   "outputs": [
    {
     "data": {
      "image/png": "[encoded data removed]",
      "text/plain": [
       "<matplotlib.figure.Figure at 0x7f690d4436d8>"
      ]
     },
     "metadata": {},
     "output_type": "display_data"
    }
   ],
   "source": [
    "acf_plot=plot_acf(y_train,title='Autocorrelation of S&P closing price',lags=25)"
   ]
  },
  {
   "cell_type": "markdown",
   "metadata": {},
   "source": [
    "so here from above graph we can observe that approximately 7 lags are outside the blue curve which means inorder to explain this regression equation accurately we need to have 7 lag terms. however there is a catch, what if the second lag(lag-2) is a function of first lag (lag-1) or third lag(lag-3) is a function of (lag-2)? Lets resolve this using PACF plot.\n",
    "\n",
    "Refernce :- https://people.duke.edu/~rnau/411arim3.htm"
   ]
  },
  {
   "cell_type": "markdown",
   "metadata": {},
   "source": [
    "#### PACF_plot - Partial Autocorelation Function plot"
   ]
  },
  {
   "cell_type": "code",
   "execution_count": 164,
   "metadata": {},
   "outputs": [
    {
     "data": {
      "image/png": "[encoded data removed]",
      "text/plain": [
       "<matplotlib.figure.Figure at 0x7f690d44a780>"
      ]
     },
     "metadata": {},
     "output_type": "display_data"
    }
   ],
   "source": [
    "pacf_plot=plot_pacf(y_train,title='Autocorrelation of S&P closing price',lags=25)"
   ]
  },
  {
   "cell_type": "markdown",
   "metadata": {},
   "source": [
    "Above graph provides a very intresting view of the lags so here we have eliminated the effect of previous lags by using the PACF or partial Autocorelation function we get to know that almost 3 lags are outside the blue shaded region (95% confidence level) which means these lags are to be included in our model they are (lag-1, lag-2, lag-3(which is negative) and then lag-5(again negative).\n",
    "\n",
    "hence the order of the autoregression model would be 4 or 5 depending on the confidence level.\n",
    "\n",
    "\n",
    "Reference :- https://people.duke.edu/~rnau/411arim3.htm"
   ]
  },
  {
   "cell_type": "code",
   "execution_count": null,
   "metadata": {},
   "outputs": [],
   "source": []
  }
 ],
 "metadata": {
  "kernelspec": {
   "display_name": "Python 3",
   "language": "python",
   "name": "python3"
  },
  "language_info": {
   "codemirror_mode": {
    "name": "ipython",
    "version": 3
   },
   "file_extension": ".py",
   "mimetype": "text/x-python",
   "name": "python",
   "nbconvert_exporter": "python",
   "pygments_lexer": "ipython3",
   "version": "3.6.5"
  }
 },
 "nbformat": 4,
 "nbformat_minor": 2
}
